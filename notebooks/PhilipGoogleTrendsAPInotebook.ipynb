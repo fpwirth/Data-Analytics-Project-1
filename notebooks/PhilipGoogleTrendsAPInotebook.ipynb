{
 "cells": [
  {
   "cell_type": "code",
   "execution_count": 1,
   "metadata": {},
   "outputs": [],
   "source": [
    "#Load Dependencies\n",
    "import os\n",
    "import datetime\n",
    "import pandas as pd\n",
    "import requests\n",
    "import numpy as np\n",
    "import urllib, json\n",
    "from pytrends.request import TrendReq\n",
    "\n",
    "#Setup Google Trend request parameters\n",
    "pytrend=TrendReq(hl='en-US', tz=360)\n",
    "\n",
    "#Create search parameters and build payload\n",
    "kw_list=['bitcoin','litecoin','ethereum','facebook libra','cryptocurrency']\n",
    "pytrend.build_payload(kw_list,timeframe='2015-01-01 2019-11-20')\n",
    "\n",
    "#Call data via api\n",
    "trends=pytrend.interest_over_time()\n",
    "\n",
    "#Output file for Google Trends raw data\n",
    "output='../data/rawdata/trendsraw.csv'\n",
    "\n",
    "#Create a csv file containing Google Trend raw data\n",
    "trends.to_csv(output,index=True,header=True)"
   ]
  },
  {
   "cell_type": "code",
   "execution_count": null,
   "metadata": {},
   "outputs": [],
   "source": []
  }
 ],
 "metadata": {
  "kernelspec": {
   "display_name": "Python 3",
   "language": "python",
   "name": "python3"
  },
  "language_info": {
   "codemirror_mode": {
    "name": "ipython",
    "version": 3
   },
   "file_extension": ".py",
   "mimetype": "text/x-python",
   "name": "python",
   "nbconvert_exporter": "python",
   "pygments_lexer": "ipython3",
   "version": "3.7.3"
  }
 },
 "nbformat": 4,
 "nbformat_minor": 4
}
