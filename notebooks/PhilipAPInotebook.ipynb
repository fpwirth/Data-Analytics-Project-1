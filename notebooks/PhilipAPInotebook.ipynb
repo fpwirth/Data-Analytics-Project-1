{
 "cells": [
  {
   "cell_type": "code",
   "execution_count": 5,
   "metadata": {},
   "outputs": [
    {
     "data": {
      "text/plain": [
       "100"
      ]
     },
     "execution_count": 5,
     "metadata": {},
     "output_type": "execute_result"
    }
   ],
   "source": [
    "#Load Dependencies\n",
    "import os\n",
    "import datetime\n",
    "import pandas as pd\n",
    "import tweepy as tw\n",
    "import twitter\n",
    "from urllib.error import HTTPError\n",
    "\n",
    "#Get API keys needed\n",
    "twitterkey=os.environ.get('keytck')\n",
    "twittersecret=os.environ.get('keytsk')\n",
    "twittertoken=os.environ.get('keytat')\n",
    "twittertokensecret=os.environ.get('keytas')\n",
    "\n",
    "api = twitter.Api(consumer_key=twitterkey,\n",
    "                  consumer_secret=twittersecret,\n",
    "                  access_token_key=twittertoken,\n",
    "                  access_token_secret=twittertokensecret)\n",
    "\n",
    "results = api.GetSearch(raw_query=\"q=bitcoin&count=1000\")\n",
    "len(results)\n",
    "# # Substitute your API and ACCESS credentials.\n",
    "# auth = tw.OAuthHandler(twitterkey, twittersecret)\n",
    "# auth.set_access_token(twittertoken, twittertokensecret)\n",
    "# api = tw.API(auth, wait_on_rate_limit=True)\n",
    "\n",
    "# # Define the search term and the dates as variables\n",
    "# for tweet in tweepy.Cursor(api.search,q=\"\",rpp=100,result_type=\"recent\",include_entities=True,lang=\"en\").items():\n",
    "#     print tweet.text\n",
    "\n",
    "\n",
    "#Output file for twitter mention raw datar\n",
    "#output='btcmentionraw.csv'\n"
   ]
  },
  {
   "cell_type": "code",
   "execution_count": null,
   "metadata": {},
   "outputs": [],
   "source": []
  }
 ],
 "metadata": {
  "kernelspec": {
   "display_name": "Python 3",
   "language": "python",
   "name": "python3"
  },
  "language_info": {
   "codemirror_mode": {
    "name": "ipython",
    "version": 3
   },
   "file_extension": ".py",
   "mimetype": "text/x-python",
   "name": "python",
   "nbconvert_exporter": "python",
   "pygments_lexer": "ipython3",
   "version": "3.7.3"
  }
 },
 "nbformat": 4,
 "nbformat_minor": 4
}
