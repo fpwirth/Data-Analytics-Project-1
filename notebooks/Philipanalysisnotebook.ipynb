{
 "cells": [
  {
   "cell_type": "code",
   "execution_count": null,
   "metadata": {},
   "outputs": [],
   "source": [
    "#Load dependencies\n",
    "%matplotlib inline\n",
    "import os\n",
    "import pandas as pd\n",
    "import numpy as np\n",
    "import matplotlib.pyplot as plt\n",
    "import seaborn as sns\n",
    "\n",
    "#Define data files to import\n",
    "btcrawdata = '../data/rawdata/btcraw.csv'\n",
    "ltcrawdata = '../data/rawdata/ltcraw.csv'\n",
    "ethrawdata = '../data/rawdata/ethraw.csv'\n",
    "trendsrawdata = '../data/rawdata/trendsraw.csv'\n",
    "\n",
    "#Read data files into temporary Pandas data frames\n",
    "tbtcdata = pd.read_csv(btcrawdata,index_col=0,parse_dates=True)\n",
    "tltcdata = pd.read_csv(ltcrawdata,index_col=0,parse_dates=True)\n",
    "tethdata = pd.read_csv(ethrawdata,index_col=0,parse_dates=True)\n",
    "ttrendsdata = pd.read_csv(trendsrawdata,index_col=0,parse_dates=True)"
   ]
  },
  {
   "cell_type": "code",
   "execution_count": null,
   "metadata": {},
   "outputs": [],
   "source": [
    "#Create columns of daily change in value for cryptocurrencies (daily close - prior daily close or open)\n",
    "tbtcdata['Bitcoin Daily Change (US$)']=tbtcdata['PriceUSD']-tbtcdata['PriceUSD'].shift(1)\n",
    "tltcdata['Litecoin Daily Change (US$)']=tltcdata['PriceUSD']-tltcdata['PriceUSD'].shift(1)\n",
    "tethdata['Ethereum Daily Change (US$)']=tethdata['PriceUSD']-tethdata['PriceUSD'].shift(1)\n",
    "\n",
    "#Cleanup raw data files and discard all data prior to 2017\n",
    "btcdata=tbtcdata.loc['2017':'2019']\n",
    "ltcdata=tltcdata.loc['2017':'2019']\n",
    "ethdata=tethdata.loc['2017':'2019']\n",
    "trendsdata=ttrendsdata.loc['2017':'2019']\n",
    "\n",
    "#Create dataset containing USD price of cryptocurrency\n",
    "btc=btcdata[['PriceUSD','Bitcoin Daily Change (US$)']].copy()\n",
    "btc.rename(columns={'PriceUSD':'Bitcoin Price (US$)'},inplace=True)\n",
    "btccount=len(btc)\n",
    "btcmissing=tbtcdata.isnull().sum().sum()\n",
    "ltc=ltcdata[['PriceUSD','Litecoin Daily Change (US$)']].copy()\n",
    "ltc.rename(columns={'PriceUSD':'Litecoin Price (US$)'},inplace=True)\n",
    "ltccount=len(ltc)\n",
    "ltcmissing=tltcdata.isnull().sum().sum()\n",
    "eth=ethdata[['PriceUSD','Ethereum Daily Change (US$)']].copy()\n",
    "eth.rename(columns={'PriceUSD':'Ethereum Price (US$)'},inplace=True)\n",
    "ethcount=len(eth)\n",
    "ethmissing=tethdata.isnull().sum().sum()\n",
    "\n",
    "tcrypto=pd.merge(btc,ltc,right_index=True,left_index=True,how='outer')\n",
    "crypto=pd.merge(tcrypto,eth,right_index=True,left_index=True,how='outer')\n",
    "cryptocount=len(crypto)\n",
    "\n",
    "#Delete columns of data not needed (btcdata['PriceBTC'] column is all 1 and trendsdata['isPartial'] is irrelevant)\n",
    "del btcdata['PriceBTC']\n",
    "del trendsdata['isPartial']\n",
    "trendscount=len(trendsdata)\n",
    "\n",
    "#Print out lengths of merged datasets for gut check\n",
    "print(f'Bitcoin dataset contain {btccount} records and has {btcmissing} values')\n",
    "print(f'Litecoin dataset contain {ltccount} records and has {ltcmissing} values')\n",
    "print(f'Ethereum dataset contain {ethcount} records and has {ethmissing} values')\n",
    "print(f'Cryptocurrency dataset contain {cryptocount} records')\n",
    "print(f'Google Trends dataset contain {trendscount} records')"
   ]
  },
  {
   "cell_type": "code",
   "execution_count": null,
   "metadata": {},
   "outputs": [],
   "source": [
    "#Determine correlation coefficients for Cryptocurrencies\n",
    "cryptocorr = crypto.corr()\n",
    "cryptocorr.style.background_gradient(cmap='coolwarm',axis=None).set_precision(2)"
   ]
  },
  {
   "cell_type": "code",
   "execution_count": null,
   "metadata": {},
   "outputs": [],
   "source": [
    "#Determine correlation coefficients for Google Trends data\n",
    "trendscorr = trendsdata.corr()\n",
    "trendscorr.style.background_gradient(cmap='coolwarm',axis=None).set_precision(2)"
   ]
  },
  {
   "cell_type": "code",
   "execution_count": null,
   "metadata": {},
   "outputs": [],
   "source": [
    "#Determine correlation coefficients for Bitcoin Price USD data\n",
    "tbtccorr = btcdata.corr()\n",
    "btccorr = tbtccorr[['PriceUSD','Bitcoin Daily Change (US$)']]\n",
    "btccorr.style.background_gradient(cmap='coolwarm',axis=None).set_precision(2)"
   ]
  },
  {
   "cell_type": "code",
   "execution_count": null,
   "metadata": {},
   "outputs": [],
   "source": [
    "#Determine correlation coefficients for Litecoin Price USD data\n",
    "tltccorr = ltcdata.corr()\n",
    "ltccorr = tltccorr[['PriceUSD','Litecoin Daily Change (US$)']]\n",
    "ltccorr.style.background_gradient(cmap='coolwarm',axis=None).set_precision(2)"
   ]
  },
  {
   "cell_type": "code",
   "execution_count": null,
   "metadata": {},
   "outputs": [],
   "source": [
    "#Determine correlation coefficients for Ethereum data\n",
    "tethcorr = ethdata.corr()\n",
    "ethcorr = tethcorr[['PriceUSD','Ethereum Daily Change (US$)']]\n",
    "ethcorr.style.background_gradient(cmap='coolwarm',axis=None).set_precision(2)"
   ]
  },
  {
   "cell_type": "code",
   "execution_count": null,
   "metadata": {},
   "outputs": [],
   "source": [
    "#Plot correlation coefficients for Cryptocurrencies\n",
    "plt.figure(figsize=(20,12))\n",
    "plt.matshow(crypto.corr(), cmap='RdBu')\n",
    "plt.xticks(range(crypto.shape[1]), crypto.columns, fontsize=10, rotation=90)\n",
    "plt.yticks(range(crypto.shape[1]), crypto.columns, fontsize=10)\n",
    "cb = plt.colorbar()\n",
    "cb.ax.tick_params(labelsize=10)\n",
    "plt.clim(-1,1)\n",
    "#plt.title('Correlation Matrix', fontsize=16);"
   ]
  },
  {
   "cell_type": "code",
   "execution_count": null,
   "metadata": {},
   "outputs": [],
   "source": [
    "#Plot correlation coefficients for Google Trends data\n",
    "plt.figure(figsize=(20,12))\n",
    "plt.matshow(trendsdata.corr(), cmap='RdBu')\n",
    "plt.xticks(range(trendsdata.shape[1]), trendsdata.columns, fontsize=10, rotation=90)\n",
    "plt.yticks(range(trendsdata.shape[1]), trendsdata.columns, fontsize=10)\n",
    "cb = plt.colorbar()\n",
    "cb.ax.tick_params(labelsize=10)\n",
    "plt.clim(-1,1)\n",
    "#plt.title('Correlation Matrix', fontsize=16);"
   ]
  },
  {
   "cell_type": "code",
   "execution_count": null,
   "metadata": {},
   "outputs": [],
   "source": [
    "#Plot Bitcoin Price over time\n",
    "plt.figure(figsize=(20,10)) \n",
    "btcdata['PriceUSD'].plot(linewidth=0.5,label='Price')\n",
    "crypto['Bitcoin Daily Change (US$)'].plot(linewidth=0.5,label='Daily Change')\n",
    "plt.title('Bitcoin')\n",
    "plt.legend(loc='best')\n",
    "plt.xlabel('Date')\n",
    "plt.ylabel('US Dollars')"
   ]
  },
  {
   "cell_type": "code",
   "execution_count": null,
   "metadata": {},
   "outputs": [],
   "source": [
    "#Plot Litecoin Price over time\n",
    "plt.figure(figsize=(20,10)) \n",
    "ltcdata['PriceUSD'].plot(linewidth=0.5,label='Price')\n",
    "crypto['Litecoin Daily Change (US$)'].plot(linewidth=0.5,label='Daily Change')\n",
    "plt.title('Litecoin')\n",
    "plt.legend(loc='best')\n",
    "plt.xlabel('Date')\n",
    "plt.ylabel('US Dollars')"
   ]
  },
  {
   "cell_type": "code",
   "execution_count": null,
   "metadata": {},
   "outputs": [],
   "source": [
    "#Plot Ethereum Price over time\n",
    "plt.figure(figsize=(20,10)) \n",
    "ethdata['PriceUSD'].plot(linewidth=0.5,label='Price')\n",
    "crypto['Ethereum Daily Change (US$)'].plot(linewidth=0.5,label='Daily Change')\n",
    "plt.title('Ethereum')\n",
    "plt.legend(loc='best')\n",
    "plt.xlabel('Date')\n",
    "plt.ylabel('US Dollars')"
   ]
  },
  {
   "cell_type": "code",
   "execution_count": null,
   "metadata": {},
   "outputs": [],
   "source": [
    "#Plot Google Trends over time\n",
    "plt.figure(figsize=(20,10)) \n",
    "trendsdata['bitcoin'].plot(linewidth=0.5)\n",
    "trendsdata['litecoin'].plot(linewidth=0.5)\n",
    "trendsdata['ethereum'].plot(linewidth=0.5)\n",
    "trendsdata['facebook libra'].plot(linewidth=0.5)\n",
    "trendsdata['cryptocurrency'].plot(linewidth=0.5)\n",
    "plt.title('Google Trends')\n",
    "plt.legend(loc='best')\n",
    "plt.xlabel('Date')\n",
    "plt.ylabel('Trend Metric')"
   ]
  },
  {
   "cell_type": "code",
   "execution_count": null,
   "metadata": {},
   "outputs": [],
   "source": [
    "#Subplots of Bitcoin Data\n",
    "varplots = ['PriceUSD','ROI30d','VtyDayRet30d','Bitcoin Daily Change (US$)']\n",
    "axes = btcdata[varplots].plot(figsize=(20,30),subplots=True)"
   ]
  },
  {
   "cell_type": "code",
   "execution_count": null,
   "metadata": {},
   "outputs": [],
   "source": [
    "#Subplots of Litecoin Data\n",
    "varplots = ['PriceUSD','ROI30d','VtyDayRet30d','Litecoin Daily Change (US$)']\n",
    "axes = ltcdata[varplots].plot(figsize=(20,30),subplots=True)"
   ]
  },
  {
   "cell_type": "code",
   "execution_count": null,
   "metadata": {},
   "outputs": [],
   "source": [
    "#Subplots of Ethereum Data\n",
    "varplots = ['PriceUSD','ROI30d','VtyDayRet30d','Ethereum Daily Change (US$)']\n",
    "axes = ethdata[varplots].plot(figsize=(20,30),subplots=True)"
   ]
  },
  {
   "cell_type": "code",
   "execution_count": null,
   "metadata": {},
   "outputs": [],
   "source": [
    "#Create dataframe containing crypto and trends data\n",
    "cryptotrends = pd.merge(crypto,trendsdata,right_index=True,left_index=True,how='outer')\n",
    "cryptotrends = cryptotrends.dropna()\n",
    "cryptotrends.rename(columns={'bitcoin':'Bitcoin Trend Metric','litecoin':'Litecoin Trend Metric','ethereum':'Ethereum Trend Metric','facebook libra':'Facebook Libra Trend Metric','cryptocurrency':'Cryptocurrency Trend Metric'},inplace=True)"
   ]
  },
  {
   "cell_type": "code",
   "execution_count": null,
   "metadata": {},
   "outputs": [],
   "source": [
    "#Create a final plot representing a start in modeling data\n",
    "finalplot = ['Litecoin Price (US$)','Litecoin Daily Change (US$)','Bitcoin Trend Metric']\n",
    "axes = cryptotrends[finalplot].plot(figsize=(20,30),subplots=True)"
   ]
  },
  {
   "cell_type": "code",
   "execution_count": null,
   "metadata": {},
   "outputs": [],
   "source": [
    "#Create column to groupby month\n",
    "datecrypto = crypto\n",
    "datecrypto['Month'] = monthcrypto.index.strftime('%m')"
   ]
  },
  {
   "cell_type": "code",
   "execution_count": null,
   "metadata": {},
   "outputs": [],
   "source": [
    "ax = datecrypto.loc['2017'].boxplot(by='Month',column=['Bitcoin Price (US$)'],grid=False,figsize=(10,5))\n",
    "ax.get_figure().suptitle('')\n",
    "ax.set_ylim(0,20000)\n",
    "ax.set_title('2017 Bitcoin Price')\n",
    "ax.set_ylabel('Bitcoin Price (US$)')"
   ]
  },
  {
   "cell_type": "code",
   "execution_count": null,
   "metadata": {},
   "outputs": [],
   "source": [
    "ax = datecrypto.loc['2017'].boxplot(by='Month',column=['Bitcoin Daily Change (US$)'],grid=False,figsize=(10,5))\n",
    "ax.get_figure().suptitle('')\n",
    "ax.set_ylim(-2000,3500)\n",
    "ax.set_title('2017 Bitcoin Daily Change')\n",
    "ax.set_ylabel('Bitcoin Price (US$)')"
   ]
  },
  {
   "cell_type": "code",
   "execution_count": null,
   "metadata": {},
   "outputs": [],
   "source": [
    "ax = datecrypto.loc['2018'].boxplot(by='Month',column=['Bitcoin Price (US$)'],grid=False,figsize=(10,5))\n",
    "ax.get_figure().suptitle('')\n",
    "ax.set_ylim(0,20000)\n",
    "ax.set_title('2018 Bitcoin Price')\n",
    "ax.set_ylabel('Bitcoin Price (US$)')"
   ]
  },
  {
   "cell_type": "code",
   "execution_count": null,
   "metadata": {},
   "outputs": [],
   "source": [
    "ax = datecrypto.loc['2018'].boxplot(by='Month',column=['Bitcoin Daily Change (US$)'],grid=False,figsize=(10,5))\n",
    "ax.get_figure().suptitle('')\n",
    "ax.set_ylim(-2000,3500)\n",
    "ax.set_title('2018 Bitcoin Daily Change')\n",
    "ax.set_ylabel('Bitcoin Price (US$)')"
   ]
  },
  {
   "cell_type": "code",
   "execution_count": null,
   "metadata": {},
   "outputs": [],
   "source": [
    "ax = datecrypto.loc['2019'].boxplot(by='Month',column=['Bitcoin Price (US$)'],grid=False,figsize=(10,5))\n",
    "ax.get_figure().suptitle('')\n",
    "ax.set_ylim(0,20000)\n",
    "ax.set_title('2019 Bitcoin Price')\n",
    "ax.set_ylabel('Bitcoin Price (US$)')"
   ]
  },
  {
   "cell_type": "code",
   "execution_count": null,
   "metadata": {},
   "outputs": [],
   "source": [
    "ax = datecrypto.loc['2019'].boxplot(by='Month',column=['Bitcoin Daily Change (US$)'],grid=False,figsize=(10,5))\n",
    "ax.get_figure().suptitle('')\n",
    "ax.set_ylim(-2000,3500)\n",
    "ax.set_title('2019 Bitcoin Daily Change')\n",
    "ax.set_ylabel('Bitcoin Price (US$)')"
   ]
  },
  {
   "cell_type": "code",
   "execution_count": null,
   "metadata": {},
   "outputs": [],
   "source": []
  }
 ],
 "metadata": {
  "kernelspec": {
   "display_name": "Python 3",
   "language": "python",
   "name": "python3"
  },
  "language_info": {
   "codemirror_mode": {
    "name": "ipython",
    "version": 3
   },
   "file_extension": ".py",
   "mimetype": "text/x-python",
   "name": "python",
   "nbconvert_exporter": "python",
   "pygments_lexer": "ipython3",
   "version": "3.7.4"
  }
 },
 "nbformat": 4,
 "nbformat_minor": 4
}
