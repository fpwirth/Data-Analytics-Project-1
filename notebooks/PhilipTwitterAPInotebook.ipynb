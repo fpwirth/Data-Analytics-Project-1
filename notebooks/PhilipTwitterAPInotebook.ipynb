{
 "cells": [
  {
   "cell_type": "code",
   "execution_count": 27,
   "metadata": {},
   "outputs": [],
   "source": [
    "#Load Dependencies\n",
    "import os\n",
    "import datetime\n",
    "import pandas as pd\n",
    "from TwitterAPI import TwitterAPI, TwitterPager\n",
    "from searchtweets import load_credentials\n",
    "from urllib.error import HTTPError\n",
    "\n",
    "#Get Twitter API keys needed\n",
    "twitterkey=os.environ.get('keytck')\n",
    "twittersecret=os.environ.get('keytsk')\n",
    "twittertoken=os.environ.get('keytat')\n",
    "twittertokensecret=os.environ.get('keytas')\n",
    "\n",
    "api = TwitterAPI(twitterkey,twittersecret,twittertoken,twittertokensecret)\n",
    "\n",
    "#Setup Twitter search info\n",
    "searchword = 'bitcoin'\n",
    "product = '30day'\n",
    "label = ':label/counts'\n",
    "\n",
    "#Conduct Twitter API request\n",
    "#pager = TwitterPager(api, 'tweets/search/%s/%s' % (product,label), {'q': searchword,\"bucket\":\"day\"})\n",
    "pager = api.request('tweets/search/%s/%s' % (product,label), {'q': searchword,\"bucket\":\"day\"})\n",
    "\n",
    "# for item in pager.get_iterator():\n",
    "# # for item in pager:\n",
    "#      print(item['text'] if 'text' in item else item)\n",
    "\n",
    "#Output file for twitter mention raw data\n",
    "#output='btcmentionraw.csv'\n"
   ]
  },
  {
   "cell_type": "code",
   "execution_count": 28,
   "metadata": {},
   "outputs": [
    {
     "name": "stdout",
     "output_type": "stream",
     "text": [
      "<TwitterAPI.TwitterAPI.TwitterResponse object at 0x000001DE836067B8>\n"
     ]
    }
   ],
   "source": [
    "print(pager)"
   ]
  },
  {
   "cell_type": "code",
   "execution_count": 29,
   "metadata": {},
   "outputs": [
    {
     "data": {
      "text/plain": [
       "{'error': {'message': 'Forbidden: Authentication succeeded but account is not authorized to access this resource.',\n",
       "  'sent': '2019-11-20T19:46:56+00:00',\n",
       "  'transactionId': '0033bf0000bf9949'}}"
      ]
     },
     "execution_count": 29,
     "metadata": {},
     "output_type": "execute_result"
    }
   ],
   "source": [
    "pager.json()"
   ]
  },
  {
   "cell_type": "code",
   "execution_count": null,
   "metadata": {},
   "outputs": [],
   "source": []
  }
 ],
 "metadata": {
  "kernelspec": {
   "display_name": "Python 3",
   "language": "python",
   "name": "python3"
  },
  "language_info": {
   "codemirror_mode": {
    "name": "ipython",
    "version": 3
   },
   "file_extension": ".py",
   "mimetype": "text/x-python",
   "name": "python",
   "nbconvert_exporter": "python",
   "pygments_lexer": "ipython3",
   "version": "3.7.3"
  }
 },
 "nbformat": 4,
 "nbformat_minor": 4
}
